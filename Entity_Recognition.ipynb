{
  "cells": [
    {
      "cell_type": "code",
      "source": [
        "import spacy"
      ],
      "metadata": {
        "id": "lYVvOxpHA_ye"
      },
      "execution_count": null,
      "outputs": []
    },
    {
      "cell_type": "code",
      "source": [
        "nlp = spacy.load('en_core_web_sm')"
      ],
      "metadata": {
        "id": "sB5-5dbZBBc2"
      },
      "execution_count": null,
      "outputs": []
    },
    {
      "cell_type": "code",
      "source": [
        "text = \"Vinayak is a Software developer residing in India. His current age is 22 years with birth date of 5th of October, 2002 on Saturday.\""
      ],
      "metadata": {
        "id": "IaHiluVlBFom"
      },
      "execution_count": null,
      "outputs": []
    },
    {
      "cell_type": "code",
      "source": [
        "doc = nlp(text)"
      ],
      "metadata": {
        "id": "0tI56mU5BT23"
      },
      "execution_count": null,
      "outputs": []
    },
    {
      "cell_type": "code",
      "source": [
        "entities = [(entity.text, entity.label_) for entity in doc.ents]"
      ],
      "metadata": {
        "id": "SWAcxSZSBWqd"
      },
      "execution_count": null,
      "outputs": []
    },
    {
      "cell_type": "code",
      "source": [
        "for text, label in entities:\n",
        "  print(text, '\\t', label)"
      ],
      "metadata": {
        "id": "iqIYVQ5iBe9z",
        "outputId": "b6fd24c2-3e91-4b28-8c23-47effbe95dfa",
        "colab": {
          "base_uri": "https://localhost:8080/"
        }
      },
      "execution_count": null,
      "outputs": [
        {
          "output_type": "stream",
          "name": "stdout",
          "text": [
            "Vinayak \t ORG\n",
            "Software \t NORP\n",
            "India \t GPE\n",
            "22 years \t DATE\n",
            "5th \t ORDINAL\n",
            "October, 2002 \t DATE\n",
            "Saturday \t DATE\n"
          ]
        }
      ]
    }
  ],
  "metadata": {
    "colab": {
      "provenance": []
    },
    "kernelspec": {
      "display_name": "Python 3",
      "name": "python3"
    }
  },
  "nbformat": 4,
  "nbformat_minor": 0
}