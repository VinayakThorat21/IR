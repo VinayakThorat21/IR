{
 "cells": [
  {
   "cell_type": "code",
   "execution_count": 4,
   "metadata": {
    "colab": {
     "base_uri": "https://localhost:8080/"
    },
    "id": "UasvtHIStyTz",
    "outputId": "be2e05fb-d822-40eb-d84e-b088f16c44d1"
   },
   "outputs": [],
   "source": [
    "import pandas as pd\n",
    "from mlxtend.preprocessing import TransactionEncoder\n",
    "from mlxtend.frequent_patterns import apriori, association_rules"
   ]
  },
  {
   "cell_type": "code",
   "execution_count": 5,
   "metadata": {
    "colab": {
     "base_uri": "https://localhost:8080/"
    },
    "id": "2zFhHG7kuK3y",
    "outputId": "a8a9908a-385c-4ddb-f41f-602cb0cc9abe"
   },
   "outputs": [],
   "source": [
    "data = [\n",
    "    [\"apple\", \"banana\", \"cherry\"],\n",
    "    [\"banana\", \"cherry\", \"date\"],\n",
    "    [\"apple\", \"banana\", \"cherry\", \"date\"],\n",
    "    [\"apple\", \"cherry\"],\n",
    "    [\"banana\", \"cherry\"]\n",
    "]"
   ]
  },
  {
   "cell_type": "code",
   "execution_count": 6,
   "metadata": {
    "colab": {
     "base_uri": "https://localhost:8080/"
    },
    "id": "6d5TR2VguxVI",
    "outputId": "7d678906-6ce7-4f7d-fbd6-b33829cdf532"
   },
   "outputs": [],
   "source": [
    "# Create Dataframe\n",
    "te = TransactionEncoder()\n",
    "te_array = te.fit(data).transform(data)\n",
    "df = pd.DataFrame(te_array, columns=te.columns_)"
   ]
  },
  {
   "cell_type": "code",
   "execution_count": 7,
   "metadata": {
    "colab": {
     "base_uri": "https://localhost:8080/"
    },
    "id": "ZcNHIlKqvRwi",
    "outputId": "1c5628b5-519a-4f1e-b471-6cd3c5f980b7"
   },
   "outputs": [
    {
     "name": "stdout",
     "output_type": "stream",
     "text": [
      "    support                 itemsets\n",
      "0       0.6                  (apple)\n",
      "1       0.8                 (banana)\n",
      "2       1.0                 (cherry)\n",
      "3       0.4                   (date)\n",
      "4       0.4          (apple, banana)\n",
      "5       0.6          (apple, cherry)\n",
      "6       0.8         (cherry, banana)\n",
      "7       0.4           (date, banana)\n",
      "8       0.4           (cherry, date)\n",
      "9       0.4  (apple, cherry, banana)\n",
      "10      0.4   (cherry, date, banana)\n"
     ]
    }
   ],
   "source": [
    "frequent_itemsets = apriori(df, min_support=0.4, use_colnames=True)\n",
    "print(frequent_itemsets)"
   ]
  },
  {
   "cell_type": "code",
   "execution_count": 8,
   "metadata": {
    "colab": {
     "base_uri": "https://localhost:8080/",
     "height": 455
    },
    "id": "6TS1aloqv8rz",
    "outputId": "bd0db121-bdd4-42c7-c29d-f67b3df358df"
   },
   "outputs": [
    {
     "ename": "TypeError",
     "evalue": "association_rules() missing 1 required positional argument: 'num_itemsets'",
     "output_type": "error",
     "traceback": [
      "\u001b[1;31m---------------------------------------------------------------------------\u001b[0m",
      "\u001b[1;31mTypeError\u001b[0m                                 Traceback (most recent call last)",
      "Cell \u001b[1;32mIn[8], line 1\u001b[0m\n\u001b[1;32m----> 1\u001b[0m rules \u001b[38;5;241m=\u001b[39m \u001b[43massociation_rules\u001b[49m\u001b[43m(\u001b[49m\u001b[43mfrequent_itemsets\u001b[49m\u001b[43m,\u001b[49m\u001b[43m \u001b[49m\u001b[43mmin_threshold\u001b[49m\u001b[38;5;241;43m=\u001b[39;49m\u001b[38;5;241;43m0.7\u001b[39;49m\u001b[43m,\u001b[49m\u001b[43m \u001b[49m\u001b[43mmetric\u001b[49m\u001b[38;5;241;43m=\u001b[39;49m\u001b[38;5;124;43m'\u001b[39;49m\u001b[38;5;124;43mconfidence\u001b[39;49m\u001b[38;5;124;43m'\u001b[39;49m\u001b[43m)\u001b[49m\n\u001b[0;32m      2\u001b[0m rules\n",
      "\u001b[1;31mTypeError\u001b[0m: association_rules() missing 1 required positional argument: 'num_itemsets'"
     ]
    }
   ],
   "source": [
    "rules = association_rules(frequent_itemsets, min_threshold=0.7, metric='confidence')\n",
    "rules"
   ]
  }
 ],
 "metadata": {
  "colab": {
   "provenance": []
  },
  "kernelspec": {
   "display_name": "base",
   "language": "python",
   "name": "python3"
  },
  "language_info": {
   "codemirror_mode": {
    "name": "ipython",
    "version": 3
   },
   "file_extension": ".py",
   "mimetype": "text/x-python",
   "name": "python",
   "nbconvert_exporter": "python",
   "pygments_lexer": "ipython3",
   "version": "3.12.4"
  }
 },
 "nbformat": 4,
 "nbformat_minor": 0
}
