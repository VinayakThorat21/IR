{
 "cells": [
  {
   "cell_type": "code",
   "execution_count": null,
   "metadata": {},
   "outputs": [
    {
     "data": {
      "text/plain": [
       "0"
      ]
     },
     "execution_count": 1,
     "metadata": {},
     "output_type": "execute_result"
    }
   ],
   "source": [
    "# Read file\n",
    "file = open('xp 1.txt')\n",
    "read = file.read()\n",
    "file.seek(0)"
   ]
  },
  {
   "cell_type": "code",
   "execution_count": 2,
   "metadata": {},
   "outputs": [
    {
     "data": {
      "text/plain": [
       "'I am Vinayak Thorat.\\nI live in Kalvade, Karad.\\nI am 22 years old and looking forward to make a career as an IT Professional.'"
      ]
     },
     "execution_count": 2,
     "metadata": {},
     "output_type": "execute_result"
    }
   ],
   "source": [
    "read"
   ]
  },
  {
   "cell_type": "code",
   "execution_count": null,
   "metadata": {},
   "outputs": [
    {
     "name": "stdout",
     "output_type": "stream",
     "text": [
      "Number of lines are 3\n"
     ]
    }
   ],
   "source": [
    "# Count lines\n",
    "line = 1\n",
    "for word in read:\n",
    "    if word == '\\n':\n",
    "        line += 1\n",
    "\n",
    "print('Number of lines are', line)"
   ]
  },
  {
   "cell_type": "code",
   "execution_count": null,
   "metadata": {},
   "outputs": [
    {
     "data": {
      "text/plain": [
       "['I am Vinayak Thorat.\\n',\n",
       " 'I live in Kalvade, Karad.\\n',\n",
       " 'I am 22 years old and looking forward to make a career as an IT Professional.']"
      ]
     },
     "execution_count": 4,
     "metadata": {},
     "output_type": "execute_result"
    }
   ],
   "source": [
    "# Separate lines\n",
    "array = []\n",
    "for i in range(line):\n",
    "    array.append(file.readline())\n",
    "\n",
    "array"
   ]
  },
  {
   "cell_type": "code",
   "execution_count": 6,
   "metadata": {},
   "outputs": [
    {
     "data": {
      "text/plain": [
       "'I am Vinayak Thorat \\nI live in Kalvade  Karad \\nI am 22 years old and looking forward to make a career as an IT Professional '"
      ]
     },
     "execution_count": 6,
     "metadata": {},
     "output_type": "execute_result"
    }
   ],
   "source": [
    "# Remove punctuations\n",
    "punct = '''`~!@#$%^&*()_-+=:;\"'|\\\\<>?,./{[]}'''\n",
    "for ele in read:\n",
    "    for ele in punct:\n",
    "        read = read.replace(ele, \" \")\n",
    "\n",
    "read"
   ]
  },
  {
   "cell_type": "code",
   "execution_count": 7,
   "metadata": {},
   "outputs": [
    {
     "data": {
      "text/plain": [
       "'i am vinayak thorat \\ni live in kalvade  karad \\ni am 22 years old and looking forward to make a career as an it professional '"
      ]
     },
     "execution_count": 7,
     "metadata": {},
     "output_type": "execute_result"
    }
   ],
   "source": [
    "read = read.lower()\n",
    "read"
   ]
  },
  {
   "cell_type": "code",
   "execution_count": 9,
   "metadata": {},
   "outputs": [
    {
     "name": "stderr",
     "output_type": "stream",
     "text": [
      "[nltk_data] Downloading package punkt to\n",
      "[nltk_data]     C:\\Users\\thora\\AppData\\Roaming\\nltk_data...\n",
      "[nltk_data]   Package punkt is already up-to-date!\n",
      "[nltk_data] Downloading package stopwords to\n",
      "[nltk_data]     C:\\Users\\thora\\AppData\\Roaming\\nltk_data...\n",
      "[nltk_data]   Package stopwords is already up-to-date!\n"
     ]
    },
    {
     "data": {
      "text/plain": [
       "True"
      ]
     },
     "execution_count": 9,
     "metadata": {},
     "output_type": "execute_result"
    }
   ],
   "source": [
    "# Tokenize words and remove stopwords\n",
    "import nltk\n",
    "nltk.download('punkt')\n",
    "nltk.download('stopwords')"
   ]
  },
  {
   "cell_type": "code",
   "execution_count": 10,
   "metadata": {},
   "outputs": [],
   "source": [
    "from nltk.tokenize import word_tokenize\n",
    "from nltk.corpus import stopwords"
   ]
  },
  {
   "cell_type": "code",
   "execution_count": 11,
   "metadata": {},
   "outputs": [
    {
     "data": {
      "text/plain": [
       "['vinayak',\n",
       " 'thorat',\n",
       " 'live',\n",
       " 'kalvade',\n",
       " 'karad',\n",
       " '22',\n",
       " 'years',\n",
       " 'forward',\n",
       " 'make',\n",
       " 'career',\n",
       " 'professional']"
      ]
     },
     "execution_count": 11,
     "metadata": {},
     "output_type": "execute_result"
    }
   ],
   "source": [
    "tokens = word_tokenize(read)\n",
    "tokens = [word for word in tokens if not word in stopwords.words()]\n",
    "tokens"
   ]
  },
  {
   "cell_type": "code",
   "execution_count": 13,
   "metadata": {},
   "outputs": [],
   "source": [
    "# Inverted index\n",
    "dict = {}\n",
    "for i in range(line):\n",
    "    check = array[i].lower()\n",
    "    for token in tokens:\n",
    "        if token in check:\n",
    "            if token not in dict:\n",
    "                dict[token] = []\n",
    "        \n",
    "            dict[token].append(i + 1)"
   ]
  },
  {
   "cell_type": "code",
   "execution_count": 14,
   "metadata": {},
   "outputs": [
    {
     "data": {
      "text/plain": [
       "{'vinayak': [1],\n",
       " 'thorat': [1],\n",
       " 'live': [2],\n",
       " 'kalvade': [2],\n",
       " 'karad': [2],\n",
       " '22': [3],\n",
       " 'years': [3],\n",
       " 'forward': [3],\n",
       " 'make': [3],\n",
       " 'career': [3],\n",
       " 'professional': [3]}"
      ]
     },
     "execution_count": 14,
     "metadata": {},
     "output_type": "execute_result"
    }
   ],
   "source": [
    "dict"
   ]
  }
 ],
 "metadata": {
  "kernelspec": {
   "display_name": "base",
   "language": "python",
   "name": "python3"
  },
  "language_info": {
   "codemirror_mode": {
    "name": "ipython",
    "version": 3
   },
   "file_extension": ".py",
   "mimetype": "text/x-python",
   "name": "python",
   "nbconvert_exporter": "python",
   "pygments_lexer": "ipython3",
   "version": "3.12.4"
  }
 },
 "nbformat": 4,
 "nbformat_minor": 2
}
