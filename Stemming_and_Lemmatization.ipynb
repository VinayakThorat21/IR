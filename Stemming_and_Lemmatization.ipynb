{
  "nbformat": 4,
  "nbformat_minor": 0,
  "metadata": {
    "colab": {
      "provenance": []
    },
    "kernelspec": {
      "name": "python3",
      "display_name": "Python 3"
    },
    "language_info": {
      "name": "python"
    }
  },
  "cells": [
    {
      "cell_type": "code",
      "execution_count": null,
      "metadata": {
        "id": "su50yF7i2h6f"
      },
      "outputs": [],
      "source": [
        "import string\n",
        "import nltk\n",
        "from nltk.tokenize import word_tokenize\n",
        "from nltk.stem import PorterStemmer"
      ]
    },
    {
      "cell_type": "code",
      "source": [
        "# Use stemming\n",
        "nltk.download('punkt')"
      ],
      "metadata": {
        "colab": {
          "base_uri": "https://localhost:8080/"
        },
        "id": "U-IUeZQs3k0G",
        "outputId": "bfc31249-e636-483f-d323-dab3fe475c52"
      },
      "execution_count": null,
      "outputs": [
        {
          "output_type": "stream",
          "name": "stderr",
          "text": [
            "[nltk_data] Downloading package punkt to /root/nltk_data...\n",
            "[nltk_data]   Unzipping tokenizers/punkt.zip.\n"
          ]
        },
        {
          "output_type": "execute_result",
          "data": {
            "text/plain": [
              "True"
            ]
          },
          "metadata": {},
          "execution_count": 3
        }
      ]
    },
    {
      "cell_type": "code",
      "source": [
        "ps = PorterStemmer()"
      ],
      "metadata": {
        "id": "Dd9LVZg036dE"
      },
      "execution_count": null,
      "outputs": []
    },
    {
      "cell_type": "code",
      "source": [
        "sentence = 'Vinayak is studying from GCEK, regarding Information Technology through Batch 2025.'"
      ],
      "metadata": {
        "id": "V9VXyuXB3IJt"
      },
      "execution_count": null,
      "outputs": []
    },
    {
      "cell_type": "code",
      "source": [
        "sentence = sentence.translate(str.maketrans(\"\", \"\", string.punctuation))"
      ],
      "metadata": {
        "id": "gJENHlwy3Rrh"
      },
      "execution_count": null,
      "outputs": []
    },
    {
      "cell_type": "code",
      "source": [
        "tokens = word_tokenize(sentence)"
      ],
      "metadata": {
        "id": "4j78cb2D2yVt"
      },
      "execution_count": null,
      "outputs": []
    },
    {
      "cell_type": "code",
      "source": [
        "for token in tokens:\n",
        "  print(token, ' - ', ps.stem(token))"
      ],
      "metadata": {
        "colab": {
          "base_uri": "https://localhost:8080/"
        },
        "id": "16Q553bJ3q2T",
        "outputId": "2ac49c43-42ba-414d-c451-4b4bbc8491c6"
      },
      "execution_count": null,
      "outputs": [
        {
          "output_type": "stream",
          "name": "stdout",
          "text": [
            "Vinayak  -  vinayak\n",
            "is  -  is\n",
            "studying  -  studi\n",
            "from  -  from\n",
            "GCEK  -  gcek\n",
            "regarding  -  regard\n",
            "Information  -  inform\n",
            "Technology  -  technolog\n",
            "through  -  through\n",
            "Batch  -  batch\n",
            "2025  -  2025\n"
          ]
        }
      ]
    },
    {
      "cell_type": "code",
      "source": [
        "# use lemmatization\n",
        "import spacy"
      ],
      "metadata": {
        "id": "q3VAeIyYn6Pl"
      },
      "execution_count": null,
      "outputs": []
    },
    {
      "cell_type": "code",
      "source": [
        "nlp = spacy.load('en_core_web_sm')"
      ],
      "metadata": {
        "id": "wDm4Fw3CoPXr"
      },
      "execution_count": null,
      "outputs": []
    },
    {
      "cell_type": "code",
      "source": [
        "doc = nlp(sentence)"
      ],
      "metadata": {
        "id": "DiznDIHapDTk"
      },
      "execution_count": null,
      "outputs": []
    },
    {
      "cell_type": "code",
      "source": [
        "for token in doc:\n",
        "  print(token.text, ' - ', token.lemma_)"
      ],
      "metadata": {
        "colab": {
          "base_uri": "https://localhost:8080/"
        },
        "id": "v16DqtbdpHEf",
        "outputId": "f43bea19-4b41-4e3f-c05a-80ada49381fd"
      },
      "execution_count": null,
      "outputs": [
        {
          "output_type": "stream",
          "name": "stdout",
          "text": [
            "Vinayak  -  Vinayak\n",
            "is  -  be\n",
            "studying  -  study\n",
            "from  -  from\n",
            "GCEK  -  GCEK\n",
            "regarding  -  regard\n",
            "Information  -  Information\n",
            "Technology  -  Technology\n",
            "through  -  through\n",
            "Batch  -  Batch\n",
            "2025  -  2025\n"
          ]
        }
      ]
    }
  ]
}