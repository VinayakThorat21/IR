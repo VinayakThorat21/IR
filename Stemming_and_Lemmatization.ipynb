{
 "cells": [
  {
   "cell_type": "code",
   "execution_count": null,
   "metadata": {
    "id": "su50yF7i2h6f"
   },
   "outputs": [],
   "source": [
    "import string\n",
    "import nltk\n",
    "from nltk.tokenize import word_tokenize\n",
    "from nltk.stem import PorterStemmer"
   ]
  },
  {
   "cell_type": "code",
   "execution_count": null,
   "metadata": {
    "colab": {
     "base_uri": "https://localhost:8080/"
    },
    "id": "U-IUeZQs3k0G",
    "outputId": "bfc31249-e636-483f-d323-dab3fe475c52"
   },
   "outputs": [
    {
     "name": "stderr",
     "output_type": "stream",
     "text": [
      "[nltk_data] Downloading package punkt to /root/nltk_data...\n",
      "[nltk_data]   Unzipping tokenizers/punkt.zip.\n"
     ]
    },
    {
     "data": {
      "text/plain": [
       "True"
      ]
     },
     "execution_count": 3,
     "metadata": {},
     "output_type": "execute_result"
    }
   ],
   "source": [
    "# Use stemming\n",
    "nltk.download('punkt')"
   ]
  },
  {
   "cell_type": "code",
   "execution_count": null,
   "metadata": {
    "id": "Dd9LVZg036dE"
   },
   "outputs": [],
   "source": [
    "ps = PorterStemmer()"
   ]
  },
  {
   "cell_type": "code",
   "execution_count": null,
   "metadata": {
    "id": "V9VXyuXB3IJt"
   },
   "outputs": [],
   "source": [
    "sentence = 'Vinayak is studying from GCEK, regarding Information Technology through Batch 2025.'"
   ]
  },
  {
   "cell_type": "code",
   "execution_count": null,
   "metadata": {
    "id": "gJENHlwy3Rrh"
   },
   "outputs": [],
   "source": [
    "sentence = sentence.translate(str.maketrans(\"\", \"\", string.punctuation))"
   ]
  },
  {
   "cell_type": "code",
   "execution_count": null,
   "metadata": {
    "id": "4j78cb2D2yVt"
   },
   "outputs": [],
   "source": [
    "tokens = word_tokenize(sentence)"
   ]
  },
  {
   "cell_type": "code",
   "execution_count": null,
   "metadata": {
    "colab": {
     "base_uri": "https://localhost:8080/"
    },
    "id": "16Q553bJ3q2T",
    "outputId": "2ac49c43-42ba-414d-c451-4b4bbc8491c6"
   },
   "outputs": [
    {
     "name": "stdout",
     "output_type": "stream",
     "text": [
      "Vinayak  -  vinayak\n",
      "is  -  is\n",
      "studying  -  studi\n",
      "from  -  from\n",
      "GCEK  -  gcek\n",
      "regarding  -  regard\n",
      "Information  -  inform\n",
      "Technology  -  technolog\n",
      "through  -  through\n",
      "Batch  -  batch\n",
      "2025  -  2025\n"
     ]
    }
   ],
   "source": [
    "for token in tokens:\n",
    "  print(token, ' - ', ps.stem(token))"
   ]
  },
  {
   "cell_type": "code",
   "execution_count": null,
   "metadata": {
    "id": "q3VAeIyYn6Pl"
   },
   "outputs": [],
   "source": [
    "# use lemmatization\n",
    "import spacy"
   ]
  },
  {
   "cell_type": "code",
   "execution_count": null,
   "metadata": {
    "id": "wDm4Fw3CoPXr"
   },
   "outputs": [],
   "source": [
    "nlp = spacy.load('en_core_web_sm')"
   ]
  },
  {
   "cell_type": "code",
   "execution_count": null,
   "metadata": {
    "id": "DiznDIHapDTk"
   },
   "outputs": [],
   "source": [
    "doc = nlp(sentence)"
   ]
  },
  {
   "cell_type": "code",
   "execution_count": null,
   "metadata": {
    "colab": {
     "base_uri": "https://localhost:8080/"
    },
    "id": "v16DqtbdpHEf",
    "outputId": "f43bea19-4b41-4e3f-c05a-80ada49381fd"
   },
   "outputs": [
    {
     "name": "stdout",
     "output_type": "stream",
     "text": [
      "Vinayak  -  Vinayak\n",
      "is  -  be\n",
      "studying  -  study\n",
      "from  -  from\n",
      "GCEK  -  GCEK\n",
      "regarding  -  regard\n",
      "Information  -  Information\n",
      "Technology  -  Technology\n",
      "through  -  through\n",
      "Batch  -  Batch\n",
      "2025  -  2025\n"
     ]
    }
   ],
   "source": [
    "for token in doc:\n",
    "  print(token.text, ' - ', token.lemma_)"
   ]
  }
 ],
 "metadata": {
  "colab": {
   "provenance": []
  },
  "kernelspec": {
   "display_name": "base",
   "language": "python",
   "name": "python3"
  },
  "language_info": {
   "name": "python",
   "version": "3.12.4"
  }
 },
 "nbformat": 4,
 "nbformat_minor": 0
}
