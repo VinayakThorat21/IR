{
 "cells": [
  {
   "cell_type": "code",
   "execution_count": 2,
   "metadata": {},
   "outputs": [],
   "source": [
    "import sqlite3"
   ]
  },
  {
   "cell_type": "code",
   "execution_count": 5,
   "metadata": {},
   "outputs": [],
   "source": [
    "conn = sqlite3.connect('dataware_house.db')\n",
    "curr = conn.cursor()"
   ]
  },
  {
   "cell_type": "code",
   "execution_count": 6,
   "metadata": {},
   "outputs": [
    {
     "data": {
      "text/plain": [
       "<sqlite3.Cursor at 0x179de9ea140>"
      ]
     },
     "execution_count": 6,
     "metadata": {},
     "output_type": "execute_result"
    }
   ],
   "source": [
    "curr.execute('''\n",
    "CREATE TABLE IF NOT EXISTS transactions (\n",
    "    id INTEGER,\n",
    "    product TEXT,\n",
    "    quantity INTEGER\n",
    ")\n",
    "''')"
   ]
  },
  {
   "cell_type": "code",
   "execution_count": 9,
   "metadata": {},
   "outputs": [
    {
     "data": {
      "text/plain": [
       "<sqlite3.Cursor at 0x179de9ea140>"
      ]
     },
     "execution_count": 9,
     "metadata": {},
     "output_type": "execute_result"
    }
   ],
   "source": [
    "data = [\n",
    "    (1, 'apple', 3),\n",
    "    (2, 'coffee', 5),\n",
    "    (3, 'banana', 7),\n",
    "    (4, 'sandlewood', 2),\n",
    "    (5, 'jaggery', 1),\n",
    "]\n",
    "curr.executemany('INSERT INTO transactions (id, product, quantity) VALUES (?, ?, ?)', data)"
   ]
  },
  {
   "cell_type": "code",
   "execution_count": 10,
   "metadata": {},
   "outputs": [],
   "source": [
    "conn.commit()\n",
    "conn.close()"
   ]
  },
  {
   "cell_type": "code",
   "execution_count": 11,
   "metadata": {},
   "outputs": [],
   "source": [
    "conn = sqlite3.connect('dataware_house.db')\n",
    "curr = conn.cursor()"
   ]
  },
  {
   "cell_type": "code",
   "execution_count": 14,
   "metadata": {},
   "outputs": [],
   "source": [
    "curr.execute('SELECT * FROM transactions')\n",
    "result = curr.fetchall()"
   ]
  },
  {
   "cell_type": "code",
   "execution_count": 15,
   "metadata": {},
   "outputs": [
    {
     "name": "stdout",
     "output_type": "stream",
     "text": [
      "(1, 'apple', 3)\n",
      "(2, 'coffee', 5)\n",
      "(3, 'banana', 7)\n",
      "(4, 'sandlewood', 2)\n",
      "(5, 'jaggery', 1)\n"
     ]
    }
   ],
   "source": [
    "for res in result:\n",
    "    print(res)"
   ]
  },
  {
   "cell_type": "code",
   "execution_count": 16,
   "metadata": {},
   "outputs": [],
   "source": [
    "conn.close()"
   ]
  },
  {
   "cell_type": "code",
   "execution_count": 1,
   "metadata": {},
   "outputs": [
    {
     "name": "stdout",
     "output_type": "stream",
     "text": [
      "New transaction added.\n",
      "All transactions:\n",
      "(1, 'apple', 3)\n",
      "(2, 'coffee', 5)\n",
      "(3, 'banana', 7)\n",
      "(4, 'sandlewood', 2)\n",
      "(5, 'jaggery', 1)\n",
      "(6, 'tea', 4)\n",
      "Updated transaction for coffee.\n",
      "Deleted transaction for jaggery.\n",
      "All transactions:\n",
      "(1, 'apple', 3)\n",
      "(2, 'coffee', 10)\n",
      "(3, 'banana', 7)\n",
      "(4, 'sandlewood', 2)\n",
      "(6, 'tea', 4)\n"
     ]
    }
   ],
   "source": [
    "import sqlite3\n",
    "\n",
    "# Connect to the database (or create it if it doesn't exist)\n",
    "conn = sqlite3.connect('dwm.db')\n",
    "curr = conn.cursor()\n",
    "\n",
    "# Create the transactions table if it doesn't already exist\n",
    "curr.execute('''\n",
    "CREATE TABLE IF NOT EXISTS transactions (\n",
    "    id INTEGER PRIMARY KEY,\n",
    "    product TEXT,\n",
    "    quantity INTEGER\n",
    ")\n",
    "''')\n",
    "\n",
    "# Insert initial data into the transactions table\n",
    "data = [\n",
    "    (1, 'apple', 3),\n",
    "    (2, 'coffee', 5),\n",
    "    (3, 'banana', 7),\n",
    "    (4, 'sandlewood', 2),\n",
    "    (5, 'jaggery', 1),\n",
    "]\n",
    "curr.executemany('INSERT OR IGNORE INTO transactions (id, product, quantity) VALUES (?, ?, ?)', data)\n",
    "\n",
    "# Commit the changes\n",
    "conn.commit()\n",
    "\n",
    "# Perform CRUD operations\n",
    "\n",
    "# 1. CREATE: Insert a new transaction\n",
    "new_data = (6, 'tea', 4)\n",
    "curr.execute('INSERT INTO transactions (id, product, quantity) VALUES (?, ?, ?)', new_data)\n",
    "print(\"New transaction added.\")\n",
    "\n",
    "# 2. READ: Retrieve all transactions\n",
    "curr.execute('SELECT * FROM transactions')\n",
    "all_transactions = curr.fetchall()\n",
    "print(\"All transactions:\")\n",
    "for transaction in all_transactions:\n",
    "    print(transaction)\n",
    "\n",
    "# 3. UPDATE: Update the quantity of a specific product (e.g., changing coffee's quantity to 10)\n",
    "curr.execute('UPDATE transactions SET quantity = ? WHERE product = ?', (10, 'coffee'))\n",
    "print(\"Updated transaction for coffee.\")\n",
    "\n",
    "# 4. DELETE: Remove a transaction by product name (e.g., deleting 'jaggery')\n",
    "curr.execute('DELETE FROM transactions WHERE product = ?', ('jaggery',))\n",
    "print(\"Deleted transaction for jaggery.\")\n",
    "\n",
    "# Commit changes and close the connection\n",
    "conn.commit()\n",
    "\n",
    "# 5. READ: Retrieve all transactions\n",
    "curr.execute('SELECT * FROM transactions')\n",
    "all_transactions = curr.fetchall()\n",
    "print(\"All transactions:\")\n",
    "for transaction in all_transactions:\n",
    "    print(transaction)\n",
    "\n",
    "conn.close()"
   ]
  }
 ],
 "metadata": {
  "kernelspec": {
   "display_name": "base",
   "language": "python",
   "name": "python3"
  },
  "language_info": {
   "codemirror_mode": {
    "name": "ipython",
    "version": 3
   },
   "file_extension": ".py",
   "mimetype": "text/x-python",
   "name": "python",
   "nbconvert_exporter": "python",
   "pygments_lexer": "ipython3",
   "version": "3.12.4"
  }
 },
 "nbformat": 4,
 "nbformat_minor": 2
}
