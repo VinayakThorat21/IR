{
  "nbformat": 4,
  "nbformat_minor": 0,
  "metadata": {
    "colab": {
      "provenance": []
    },
    "kernelspec": {
      "name": "python3",
      "display_name": "Python 3"
    },
    "language_info": {
      "name": "python"
    }
  },
  "cells": [
    {
      "cell_type": "code",
      "execution_count": null,
      "metadata": {
        "id": "mgD5v-vIpw4O"
      },
      "outputs": [],
      "source": [
        "with open('file.txt', 'w') as file:\n",
        "  file.write('''\n",
        "  I am Vinayak Thorat from Kalvade.\n",
        "  I am very happy to have you here with me.\n",
        "  It's 31st of Oct, 2024 and I would like to greet you \"A very happy diwali, mate!\"\n",
        "  ''')"
      ]
    },
    {
      "cell_type": "code",
      "source": [
        "import re\n",
        "from collections import defaultdict"
      ],
      "metadata": {
        "id": "-5RVOs27rvL-"
      },
      "execution_count": null,
      "outputs": []
    },
    {
      "cell_type": "code",
      "source": [
        "# Build inverted index\n",
        "def build_inverted_index(file_path):\n",
        "  inverted_index = defaultdict(list)\n",
        "\n",
        "  with open('file.txt', 'r') as file:\n",
        "    for id, line in enumerate(file, start=1):\n",
        "\n",
        "      # Lowercasing and splitting words\n",
        "      words = re.findall(r'\\w+', line.lower())\n",
        "\n",
        "      # Add each word to index\n",
        "      for word in words:\n",
        "        inverted_index[word].append(id)\n",
        "\n",
        "  return inverted_index"
      ],
      "metadata": {
        "id": "DGDS8IpJri-e"
      },
      "execution_count": null,
      "outputs": []
    },
    {
      "cell_type": "code",
      "source": [
        "# Search query\n",
        "def search_query(inverted_index, query):\n",
        "  query = query.lower()\n",
        "  return inverted_index.get(query, [])"
      ],
      "metadata": {
        "id": "Thcwj-cZsrN5"
      },
      "execution_count": null,
      "outputs": []
    },
    {
      "cell_type": "code",
      "source": [
        "inverted_index = build_inverted_index('file.txt')"
      ],
      "metadata": {
        "id": "W03BGU9cs7Dc"
      },
      "execution_count": null,
      "outputs": []
    },
    {
      "cell_type": "code",
      "source": [
        "search_query(inverted_index, 'oct')"
      ],
      "metadata": {
        "colab": {
          "base_uri": "https://localhost:8080/"
        },
        "id": "9rE3UsfKtDrX",
        "outputId": "1be053f2-b477-44c1-8303-2fafa1c90e51"
      },
      "execution_count": null,
      "outputs": [
        {
          "output_type": "execute_result",
          "data": {
            "text/plain": [
              "[4]"
            ]
          },
          "metadata": {},
          "execution_count": 10
        }
      ]
    }
  ]
}