{
 "cells": [
  {
   "cell_type": "code",
   "execution_count": 1,
   "metadata": {},
   "outputs": [],
   "source": [
    "import requests\n",
    "from bs4 import BeautifulSoup\n",
    "from collections import deque"
   ]
  },
  {
   "cell_type": "code",
   "execution_count": 3,
   "metadata": {},
   "outputs": [],
   "source": [
    "def bfs(start_url, depth_limit):\n",
    "    # Keep track of visited urls\n",
    "    visited = set()\n",
    "\n",
    "    # Track url with its depth\n",
    "    urls = deque([(start_url, 0)])\n",
    "\n",
    "    while urls:\n",
    "\n",
    "        url, depth = urls.popleft()\n",
    "\n",
    "        # Skip URL if depth exceeds\n",
    "        if depth > depth_limit:\n",
    "            continue\n",
    "\n",
    "        # Check if already visited URL\n",
    "        if url not in visited:\n",
    "            try:\n",
    "                response = requests.get(url)\n",
    "\n",
    "                # Check if 200 status code\n",
    "                if response.status_code == 200:\n",
    "\n",
    "                    # Mark as visited\n",
    "                    visited.add(url)\n",
    "                    print('Visited', url, 'at depth of', depth)\n",
    "\n",
    "                    # Parse Page\n",
    "                    page = BeautifulSoup(response.text, 'html.parser')\n",
    "\n",
    "                    # Extract links\n",
    "                    links = page.find_all('a', href=True)\n",
    "\n",
    "                    for link in links:\n",
    "                        url = link['href']\n",
    "                        if url.startswith('http') and url not in visited:\n",
    "                            urls.append((url, depth + 1))\n",
    "                            \n",
    "            except Exception as e:\n",
    "                print(e)"
   ]
  },
  {
   "cell_type": "code",
   "execution_count": 5,
   "metadata": {},
   "outputs": [
    {
     "name": "stdout",
     "output_type": "stream",
     "text": [
      "Visited https://www.peets.com at depth of 0\n",
      "Visited https://peets.app.link/qI8oeoCff9 at depth of 1\n",
      "Visited http://www.instagram.com/peetscoffee at depth of 1\n",
      "Visited http://www.twitter.com/PeetsCoffee at depth of 1\n",
      "Visited http://www.facebook.com/peets at depth of 1\n",
      "Visited https://www.youtube.com/channel/UChtMUHysfGfTPiWieYJY65g at depth of 1\n",
      "HTTPSConnectionPool(host='www.tiktok.com', port=443): Max retries exceeded with url: /@peetscoffee (Caused by ConnectTimeoutError(<urllib3.connection.HTTPSConnection object at 0x000001D369B1EE10>, 'Connection to www.tiktok.com timed out. (connect timeout=None)'))\n",
      "Visited https://signup.cj.com/member/signup/publisher/?cid=2346375#/branded at depth of 1\n",
      "Visited https://peets.app.link/Jz62zXuSZ9 at depth of 1\n",
      "Visited https://peets.app.link/bQOV2YzSZ9 at depth of 1\n",
      "Visited https://www.peets.com/collections/organic-coffee at depth of 1\n",
      "Visited https://order.peets.com/?_branch_match_id=link-826873191218162892&utm_source=Peets.com&utm_campaign=Web%20Ordering&utm_medium=Peets.com%20Quick%20Link&_branch_referrer=H4sIAAAAAAAAA8soKSkottLXL0hNLSnWSywo0MvJzMvWL%2FS0yE%2FNd05LswQAzS%2F93yEAAAA%3D at depth of 2\n",
      "Visited https://www.youtube.com/about/ at depth of 2\n",
      "Visited https://www.youtube.com/about/press/ at depth of 2\n",
      "Visited https://www.youtube.com/about/copyright/ at depth of 2\n",
      "Visited https://www.youtube.com/creators/ at depth of 2\n",
      "Visited https://www.youtube.com/ads/ at depth of 2\n",
      "Visited https://developers.google.com/youtube at depth of 2\n",
      "Visited https://www.youtube.com/about/policies/ at depth of 2\n",
      "Visited https://www.youtube.com/howyoutubeworks?utm_campaign=ytgen&utm_source=ythp&utm_medium=LeftNav&utm_content=txt&u=https%3A%2F%2Fwww.youtube.com%2Fhowyoutubeworks%3Futm_source%3Dythp%26utm_medium%3DLeftNav%26utm_campaign%3Dytgen at depth of 2\n",
      "Visited https://apps.apple.com/us/app/id1059865964?_branch_match_id=link-837053757027302617&utm_source=Peets.com&utm_campaign=Evergreen%20Peets.com&utm_medium=Peets.com%20Quick%20Link&_branch_referrer=H4sIAAAAAAAAA8soKSkottLXL0hNLSnWSywo0MvJzMvW96oyM6qKKA2OsgQAcR1IaiEAAAA%3D at depth of 2\n",
      "Visited https://peets-alternate.app.link/bQOV2YzSZ9?__branch_flow_type=viewapp&__branch_flow_id=1381178499184066409&__branch_mobile_deepview_type=1 at depth of 2\n",
      "HTTPSConnectionPool(host='www.tiktok.com', port=443): Max retries exceeded with url: /@peetscoffee (Caused by ConnectTimeoutError(<urllib3.connection.HTTPSConnection object at 0x000001D36BE20D10>, 'Connection to www.tiktok.com timed out. (connect timeout=None)'))\n"
     ]
    }
   ],
   "source": [
    "bfs('https://www.peets.com', 2)"
   ]
  }
 ],
 "metadata": {
  "kernelspec": {
   "display_name": "base",
   "language": "python",
   "name": "python3"
  },
  "language_info": {
   "codemirror_mode": {
    "name": "ipython",
    "version": 3
   },
   "file_extension": ".py",
   "mimetype": "text/x-python",
   "name": "python",
   "nbconvert_exporter": "python",
   "pygments_lexer": "ipython3",
   "version": "3.12.4"
  }
 },
 "nbformat": 4,
 "nbformat_minor": 2
}
